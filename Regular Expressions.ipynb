{
 "cells": [
  {
   "cell_type": "markdown",
   "metadata": {},
   "source": [
    "# Regular Expressions\n",
    "\n",
    "<pre>\n",
    "B. von Konsky\n",
    "Data Management ISYS5007\n",
    "School of Information Systems, Curtin University\n",
    "</pre>\n",
    "\n",
    "This is a [Jupyter Notebook](http://jupyter-notebook-beginner-guide.readthedocs.io/en/latest/what_is_jupyter.html) [1] that gives an overview of regular expressions in Python.  It shows how formatted text and Python code can be interleaved in the context of a single document.\n",
    "\n",
    "Effectively this is a means that can be used to achieve [reproducible research](http://biostatistics.oxfordjournals.org/content/10/3/405.full), since code and data can be integrated into a single document and deployed in a variety of formats including:\n",
    "* HTML\n",
    "* PDF\n",
    "* Presentations\n",
    "\n",
    "Text that is not code is fomated using [Markdown](http://jupyter-notebook.readthedocs.io/en/latest/examples/Notebook/Working%20With%20Markdown%20Cells.html).\n",
    "\n",
    "**References**\n",
    "\n",
    "\\[1\\] What is a Jupyter Notebook?[http://jupyter-notebook-beginner-guide.readthedocs.io/en/latest/what_is_jupyter.html](http://jupyter-notebook-beginner-guide.readthedocs.io/en/latest/what_is_jupyter.html)\n",
    "\n",
    "\\[2\\] Peng, R. D. (2009). \"Reproducible research and Biostatistics.\" Biostatistics 10(3): 405-408. [http://biostatistics.oxfordjournals.org/content/10/3/405.full](http://biostatistics.oxfordjournals.org/content/10/3/405.full)\n",
    "\n",
    "\\[3\\] Jupyter Notebook. Markdown Cells. [http://jupyter-notebook.readthedocs.io/en/latest/examples/Notebook/Working%20With%20Markdown%20Cells.html](http://jupyter-notebook.readthedocs.io/en/latest/examples/Notebook/Working%20With%20Markdown%20Cells.html)\n",
    "\n",
    "---"
   ]
  },
  {
   "cell_type": "markdown",
   "metadata": {
    "collapsed": true
   },
   "source": [
    "## Special characters\n",
    "\n",
    "Special notation used to define patterns in text\n",
    "* Pattern matching\n",
    "* Pattern replacement\n",
    "\n",
    "Data Cleaning\n",
    "* Ensure data is in a consistent format\n",
    "* Break long items into fields\n",
    "* (e.g. address becomes street, suburb, postcode\n",
    "\n",
    "Python regular expressions\n",
    "* Standard Python package, so nothing to install\n",
    "* import re"
   ]
  },
  {
   "cell_type": "markdown",
   "metadata": {},
   "source": [
    "## Special characters in pattern matching\n",
    "\n",
    "|Special Chars | Meaning                                                     |\n",
    "|:------------:|-------------------------------------------------------------|\n",
    "| .            | Matches any character                                       |\n",
    "| ^            | Matches the beginning of the string                         |\n",
    "| $            | Matches newline or end of the string                        |\n",
    "| *            | Matches zero or more of the preceding regular exressions    |\n",
    "| +            | Matches one or more of the previous regular expressions     |\n",
    "| {m}          | matches exactly m copies of the previous regular expression |\n",
    "| {m,n}        | Matches between m and n copies of the previous expression   |\n",
    "| \\            | Escapes special characters or used for pecial sequences     |\n",
    "| [ ]          | Used to indicate a set of characters, e.g. [0-9], [A-Z]     |\n",
    "| a&#124;b     | Mathces regular expressions a or b                          |\n",
    "| (...)        | Matches a group that can be referred to by number later     |\n",
    "\n",
    "## Shorthand for common character sets\n",
    "\n",
    "|Shorthand   | Meaning                                                     |\n",
    "|:----------:|-------------------------------------------------------------|\n",
    "| \\w         | World characters, equivalent to [a-zA-Z0-9_]                |\n",
    "| \\W         | Opposite of \\w, equivalent to [^a-zA-Z0-9_] (Not in the set)|\n",
    "| \\d         | Equivalent to [0-9]                                         |\n",
    "| \\D         | Equivalent to [^0-9]    (Not in the sent 0-9)               |\n",
    "\n",
    "## Usefule re object methods\n",
    "\n",
    "|Method      |Meaning \n",
    "|------------|----------------------------------------------------------------------------------------------------|\n",
    "|match = re.search(pattern, string) | Returns a match object when the pattern is in the string and None otherwise |\n",
    "|match.group()                      | Text matching the pattern                                                   |\n",
    "|match.group(n)                     | Group n in the matched pattern                                              |\n",
    "|str=re.sub(pattern, repl, string)  | Matched pattern replaced with repl in string                                |\n",
    "\n",
    "... And many more\n",
    "      \n",
    "\n",
    "\n",
    "\n",
    "\n"
   ]
  },
  {
   "cell_type": "markdown",
   "metadata": {},
   "source": [
    "# Matching an email address in a string\n",
    "\n",
    "* **\\w** matches word characters plus underscore\n",
    "* **\\.** Escaped full-stop is a full-stop\n",
    "* **[\\w\\.]+** matches one ore more word characters and full stops"
   ]
  },
  {
   "cell_type": "code",
   "execution_count": 1,
   "metadata": {
    "collapsed": false
   },
   "outputs": [
    {
     "data": {
      "text/plain": [
       "'j.smith2@bigpond.com.au'"
      ]
     },
     "execution_count": 1,
     "metadata": {},
     "output_type": "execute_result"
    }
   ],
   "source": [
    "import re\n",
    "\n",
    "# Match the email address in the string\n",
    "details=\"john smith: j.smith2@bigpond.com.au, (08) 9266-0000\"\n",
    "result = re.search(r'[\\w\\.]+@[\\w\\.]+', details)\n",
    "result.group()"
   ]
  },
  {
   "cell_type": "markdown",
   "metadata": {},
   "source": [
    "## Matching address components"
   ]
  },
  {
   "cell_type": "code",
   "execution_count": 2,
   "metadata": {
    "collapsed": false
   },
   "outputs": [
    {
     "data": {
      "text/plain": [
       "'1313'"
      ]
     },
     "execution_count": 2,
     "metadata": {},
     "output_type": "execute_result"
    }
   ],
   "source": [
    "# Match components of the address in the string\n",
    "address  = '1313 Catalano Bay Drive, CANNING VALE WA 6155'\n",
    "number   = re.search(r'^\\s*(\\d+)', address)\n",
    "number.group(1)"
   ]
  },
  {
   "cell_type": "code",
   "execution_count": 3,
   "metadata": {
    "collapsed": false
   },
   "outputs": [
    {
     "data": {
      "text/plain": [
       "' Catalano Bay Drive'"
      ]
     },
     "execution_count": 3,
     "metadata": {},
     "output_type": "execute_result"
    }
   ],
   "source": [
    ">>> street   = re.search(r'([a-zA-Z\\s]+)', address)\n",
    ">>> street.group(1)"
   ]
  },
  {
   "cell_type": "code",
   "execution_count": 4,
   "metadata": {
    "collapsed": false
   },
   "outputs": [
    {
     "data": {
      "text/plain": [
       "' CANNING VALE'"
      ]
     },
     "execution_count": 4,
     "metadata": {},
     "output_type": "execute_result"
    }
   ],
   "source": [
    "suburb   = re.search(r'([a-zA-Z\\s]+)\\s+WA', address)\n",
    "suburb.group(1)"
   ]
  },
  {
   "cell_type": "code",
   "execution_count": 5,
   "metadata": {
    "collapsed": false
   },
   "outputs": [
    {
     "data": {
      "text/plain": [
       "'6155'"
      ]
     },
     "execution_count": 5,
     "metadata": {},
     "output_type": "execute_result"
    }
   ],
   "source": [
    "postcode = re.search(r'([0-9]{4})\\s*$', address)\n",
    "postcode.group(1)"
   ]
  },
  {
   "cell_type": "markdown",
   "metadata": {},
   "source": [
    "## Matching addresses with Unit / Number\n",
    "\n",
    "* Use multiple groups to detect but unit and street number\n",
    "* Look for one ore more numbers on either side of **‘/’**\n"
   ]
  },
  {
   "cell_type": "code",
   "execution_count": 6,
   "metadata": {
    "collapsed": false
   },
   "outputs": [
    {
     "data": {
      "text/plain": [
       "'4'"
      ]
     },
     "execution_count": 6,
     "metadata": {},
     "output_type": "execute_result"
    }
   ],
   "source": [
    "# Match  unit number and street address if they exist\n",
    "address = '4/2367 Hay Street, PERTH WA 6000'\n",
    "result  = re.search(r'^\\s*(\\d+)\\s*/\\s*(\\d+)', address)\n",
    "result.group(1)"
   ]
  },
  {
   "cell_type": "code",
   "execution_count": 7,
   "metadata": {
    "collapsed": false
   },
   "outputs": [
    {
     "data": {
      "text/plain": [
       "'2367'"
      ]
     },
     "execution_count": 7,
     "metadata": {},
     "output_type": "execute_result"
    }
   ],
   "source": [
    "result.group(2)"
   ]
  },
  {
   "cell_type": "code",
   "execution_count": 8,
   "metadata": {
    "collapsed": false
   },
   "outputs": [
    {
     "data": {
      "text/plain": [
       "('4', '2367')"
      ]
     },
     "execution_count": 8,
     "metadata": {},
     "output_type": "execute_result"
    }
   ],
   "source": [
    "result.groups()"
   ]
  },
  {
   "cell_type": "markdown",
   "metadata": {},
   "source": [
    "## Code to detect both address formats\n",
    "* Check if result for first regular expression is **not None**\n",
    "* Use other regular expression otherwise"
   ]
  },
  {
   "cell_type": "code",
   "execution_count": 9,
   "metadata": {
    "collapsed": true
   },
   "outputs": [],
   "source": [
    "def UnitAndNumber(address):\n",
    "    result  = re.search(r'^\\s*(\\d+)\\s*/\\s*(\\d+)', address)\n",
    "    # if result is not None the this address as Unit/Number format\n",
    "    if result is not None:\n",
    "        unit   = result.group(1)\n",
    "        number = result.group(2)\n",
    "    # Otherwise assume the address uses Number Street format\n",
    "    else:\n",
    "        unit   = None\n",
    "        number = re.search(r'^\\s*(\\d+)', address).group(1)\n",
    "    return unit, number"
   ]
  },
  {
   "cell_type": "code",
   "execution_count": 10,
   "metadata": {
    "collapsed": false
   },
   "outputs": [
    {
     "data": {
      "text/plain": [
       "(None, '1313')"
      ]
     },
     "execution_count": 10,
     "metadata": {},
     "output_type": "execute_result"
    }
   ],
   "source": [
    "address='1313 Catalano Bay Drive, CANNING VALE WA 6155'\n",
    "UnitAndNumber(address)"
   ]
  },
  {
   "cell_type": "code",
   "execution_count": 11,
   "metadata": {
    "collapsed": false
   },
   "outputs": [
    {
     "data": {
      "text/plain": [
       "('42', '1313')"
      ]
     },
     "execution_count": 11,
     "metadata": {},
     "output_type": "execute_result"
    }
   ],
   "source": [
    "address='42/1313 Mockingbird Lane'\n",
    "UnitAndNumber(address)"
   ]
  },
  {
   "cell_type": "markdown",
   "metadata": {},
   "source": [
    "## Substitutions using groups\n",
    "\n",
    "* result =re.sub(patter, replacement, string)\n",
    "* Replacement can refer to groups in the pattern by number"
   ]
  },
  {
   "cell_type": "code",
   "execution_count": 12,
   "metadata": {
    "collapsed": false
   },
   "outputs": [
    {
     "data": {
      "text/plain": [
       "'Telephone: 9266 7278, X 6104'"
      ]
     },
     "execution_count": 12,
     "metadata": {},
     "output_type": "execute_result"
    }
   ],
   "source": [
    "str = \"Telephone: 9266 7278 or       X 6104\"\n",
    "# Replace 'or' surrounded by any number of spaces with a comma\n",
    "st = re.sub(r'\\s+or\\s+', ', ', str)\n",
    "st"
   ]
  },
  {
   "cell_type": "code",
   "execution_count": 13,
   "metadata": {
    "collapsed": false
   },
   "outputs": [
    {
     "data": {
      "text/plain": [
       "'Telephone: 9266 7278 or       9266 6104'"
      ]
     },
     "execution_count": 13,
     "metadata": {},
     "output_type": "execute_result"
    }
   ],
   "source": [
    "# Replace \"x\" for extension with a known prefix\n",
    "st = re.sub(r'[xX]\\s*([0-9]{4})', r'9266 \\1', str)\n",
    "st"
   ]
  },
  {
   "cell_type": "code",
   "execution_count": 14,
   "metadata": {
    "collapsed": false
   },
   "outputs": [
    {
     "data": {
      "text/plain": [
       "'Telephone: 9266 7278 or       X 6104'"
      ]
     },
     "execution_count": 14,
     "metadata": {},
     "output_type": "execute_result"
    }
   ],
   "source": [
    "# Replace hyphen surrounded by zero or more spaces with a single space\n",
    "st = \"Telephone: 9266    -  7279\"\n",
    "st = re.sub(r'([0-9]{4})\\s*-*\\s*([0-9]{4})', r'\\1 \\2', str)\n",
    "st"
   ]
  },
  {
   "cell_type": "code",
   "execution_count": null,
   "metadata": {
    "collapsed": true
   },
   "outputs": [],
   "source": []
  }
 ],
 "metadata": {
  "anaconda-cloud": {
   "attach-environment": true,
   "summary": "This Regular Expression example will be used in Data Management ISYS5007 as a first example of Markdown and Jupyter Notesbooks",
   "url": "https://anaconda.org/bvonkonsky/regular-expressions"
  },
  "kernelspec": {
   "display_name": "Python [default]",
   "language": "python",
   "name": "python3"
  },
  "language_info": {
   "codemirror_mode": {
    "name": "ipython",
    "version": 3
   },
   "file_extension": ".py",
   "mimetype": "text/x-python",
   "name": "python",
   "nbconvert_exporter": "python",
   "pygments_lexer": "ipython3",
   "version": "3.5.2"
  }
 },
 "nbformat": 4,
 "nbformat_minor": 1
}
